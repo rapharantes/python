{
 "cells": [
  {
   "cell_type": "markdown",
   "metadata": {},
   "source": [
    "# NumPy - Manipulando Dados Numéricos"
   ]
  },
  {
   "cell_type": "markdown",
   "metadata": {},
   "source": [
    "## O que é o NumPy?\n",
    "\n",
    "O *NumPy* é uma biblioteca para a Linguagem de Programação Python, que da suporte à linguagem para trabalhar com grandes matrizes e vetores multidimensionais, juntamente com uma ampla coleção de funções matemáticas de alto nível.\n",
    "\n",
    "Especificamente, essa bibioteca fornece ao Python, objetos *arrays* multidimensionais e vários objetos derivados (p. ex.: masked arrays e matrices), com um conjunto de funções para operações rápidas em vetores e a Computação Numérica, por exemplo: \n",
    "\n",
    "* Funções Matemáticas e Lógicas;\n",
    "* Manipulação de Formas;\n",
    "* Ordenação;\n",
    "* Seleção;\n",
    "* Leitura de Dados (E/S);\n",
    "* Transformada Discreta de Fourier;\n",
    "* Álgebra Linear Básica;\n",
    "* Operações Estatísticas Básicas;\n",
    "* Simulação Aleatória.\n",
    "\n",
    "No núcleo da biblioteca NumPy temos o objeto *narray* que encapsula vetores n-dimensionais com tipos de dados homgêneos e muitas operações executadas no código compilado a fim de desempenho. \n",
    "\n",
    "### NumPy X Sequências Padrão do Python\n",
    "\n",
    "Existem várias diferenças importantes entre os vetores do NumPy e as sequências padrão do Python, são elas: \n",
    "\n",
    "* **Vetores Estáticos:** os vetores do NumPy têm tamanho fixo em sua criação, diferente das listas do Python que podem crescer dinamicamente em tempo de execução. Logo, quando alteramos o tamanho de um objeto *narray*, será criado um novo vetor e excluído o original;\n",
    "\n",
    "* **Tipo de Dados Homogêneo dos Itens:**  todos os elementos dos vetores em NumPy, devem ser obrigatoriamente do mesmo tipo de dados, logo, eles irão ter o mesmo tamanho em memória;\n",
    "\n",
    "* **Operações Matemáticas Avançadas:** os vetores do NumPy otimizam operações matemáticas avançadas e qualquer tipo de outras operações para um grande número de dados. Na prática, essas operações são executadas mais eficientemente e com menos código do que se usarmos as sequências padrão do Python;"
   ]
  },
  {
   "cell_type": "code",
   "execution_count": 3,
   "metadata": {},
   "outputs": [
    {
     "data": {
      "text/plain": [
       "array([0, 1, 2, 3, 4])"
      ]
     },
     "execution_count": 3,
     "metadata": {},
     "output_type": "execute_result"
    }
   ],
   "source": [
    "# NumPy na Prática\n",
    "import numpy as np  # Importa a biblioteca NumPy para seu projeto\n",
    "import timeit       # Biblioteca Python para medir o tempo de execução de pequenos trechos de código\n",
    "\n",
    "\n",
    "vetor = np.array([0, 1, 2, 3, 4]) # instancia um vetor (array) em NumPy\n",
    "vetor                          # Imprime seu conteúdo"
   ]
  },
  {
   "cell_type": "markdown",
   "metadata": {},
   "source": [
    "## Criação de Vetores"
   ]
  },
  {
   "cell_type": "markdown",
   "metadata": {},
   "source": [
    "### Construção Manual de Vetores"
   ]
  },
  {
   "cell_type": "code",
   "execution_count": 4,
   "metadata": {},
   "outputs": [
    {
     "name": "stdout",
     "output_type": "stream",
     "text": [
      "[0 1 2 3 4]\n",
      "1\n",
      "(5,)\n",
      "5\n",
      "[['A' 'B' '2']\n",
      " ['3' '4' '5']]\n",
      "2\n",
      "(2, 3)\n"
     ]
    }
   ],
   "source": [
    "# CONSTRUÇÃO MANUAL DE VETORES\n",
    "# Unidimencional (1D)\n",
    "\n",
    "vetor_numpy = np.array([0, 1, 2, 3, 4])\n",
    "\n",
    "print(vetor_numpy)        # Imprime o vetor\n",
    "print(vetor_numpy.ndim)   # Retorna o número de dimensões do vetor\n",
    "print(vetor_numpy.shape)  # Retorna a forma do vetor ou atribui uma tupla para as dimnesões do vetor\n",
    "print(len(vetor_numpy))   # Retorna o número de elementos do vetor\n",
    "\n",
    "# Multi-dimencional (n-D)\n",
    "\n",
    "# Matriz Bidimensional 2 (linhas) X 3 (colunas)\n",
    "matriz_numpy = np.array([['A', 'B', 2], [3, 4, 5]]) \n",
    "\n",
    "print(matriz_numpy)\n",
    "print(matriz_numpy.ndim)\n",
    "print(matriz_numpy.shape)"
   ]
  },
  {
   "cell_type": "markdown",
   "metadata": {},
   "source": [
    "### Funções para Criação de Vetores"
   ]
  },
  {
   "cell_type": "code",
   "execution_count": 5,
   "metadata": {},
   "outputs": [
    {
     "name": "stdout",
     "output_type": "stream",
     "text": [
      "Vetores Igualmente Espaçado\n",
      "[0 1 2 3 4 5 6 7 8 9]\n",
      "[1 3 5 7]\n",
      "\n",
      "Vetores por Números de Pontos\n",
      "[0.  0.2 0.4 0.6 0.8 1. ]\n",
      "\n",
      "MATRIZES POPULARES\n",
      "\n",
      "Matriz de Uns\n",
      "[[1. 1. 1.]\n",
      " [1. 1. 1.]\n",
      " [1. 1. 1.]]\n",
      "\n",
      "Matriz de Zeros\n",
      "[[0. 0.]\n",
      " [0. 0.]]\n",
      "\n",
      "Matriz Zerada com Diagonal de Uns\n",
      "[[1. 0. 0. 0.]\n",
      " [0. 1. 0. 0.]\n",
      " [0. 0. 1. 0.]\n",
      " [0. 0. 0. 1.]]\n",
      "\n",
      "Matriz Zerada com Diagonal de Permutações\n",
      "[[1 0 0 0]\n",
      " [0 2 0 0]\n",
      " [0 0 3 0]\n",
      " [0 0 0 4]]\n",
      "\n",
      "VETORES ALEATÓRIOS\n",
      "\n",
      "Vetor Aleatório Uniforme\n",
      "[0.89111361 0.79647131 0.89595051 0.26282673]\n",
      "\n",
      "Vetor Aleatório Gaussiano\n",
      "[-0.07036852  1.60959095 -1.28810649  1.458688  ]\n"
     ]
    }
   ],
   "source": [
    "# Vetores Igualmente Espaçado\n",
    "print(\"Vetores Igualmente Espaçado\")\n",
    "vetor = np.arange(10) # 0 .. n - 1\n",
    "print(vetor)\n",
    "\n",
    "vetor_impar = np.arange(1, 9, 2) # Início, Fim e Incremento\n",
    "print(vetor_impar)\n",
    "\n",
    "# Vetores por números de pontos\n",
    "print(\"\\nVetores por Números de Pontos\")\n",
    "numero_pontos = np.linspace(0, 1, 6) # Início, Fim, Número de Pontos\n",
    "print(numero_pontos)\n",
    "\n",
    "# Matrizes Populares\n",
    "print(\"\\nMATRIZES POPULARES\")\n",
    "print(\"\\nMatriz de Uns\")\n",
    "matriz_de_uns = np.ones((3, 3)) # Tupla (3, 3)\n",
    "print(matriz_de_uns)\n",
    "\n",
    "print(\"\\nMatriz de Zeros\")\n",
    "matriz_de_zeros = np.zeros((2, 2))\n",
    "print(matriz_de_zeros)\n",
    "\n",
    "print(\"\\nMatriz Zerada com Diagonal de Uns\")\n",
    "matriz_zeros_diagonal_uns = np.eye(4)\n",
    "print(matriz_zeros_diagonal_uns)\n",
    "\n",
    "print(\"\\nMatriz Zerada com Diagonal de Permutações\")\n",
    "matriz_diagonal_permutacao = np.diag(np.array([1, 2, 3, 4]))\n",
    "print(matriz_diagonal_permutacao)\n",
    "\n",
    "print(\"\\nVETORES ALEATÓRIOS\")\n",
    "print(\"\\nVetor Aleatório Uniforme\")\n",
    "vetor_uniforme_aleatorio = np.random.rand(4)\n",
    "print(vetor_uniforme_aleatorio)\n",
    "\n",
    "print(\"\\nVetor Aleatório Gaussiano\")\n",
    "vetor_aleatorio_gaussiano = np.random.randn(4)\n",
    "print(vetor_aleatorio_gaussiano)\n",
    "\n",
    "np.random.seed(1234) # Definindo a semente aleatória"
   ]
  },
  {
   "cell_type": "markdown",
   "metadata": {},
   "source": [
    "# Exercícios\n",
    "\n",
    "1. Usando NumPy, importe o [dataset iris](https://archive.ics.uci.edu/ml/machine-learning-databases/iris/iris.data) mantendo o seu conteúdo intacto.\n",
    "\n",
    "2. Extraia a coluna *species* do dataset importado na questão anterior para um vetor unidimensional.\n",
    "\n",
    "3. Calcule a média, mediana e desvio padrão da primeira coluna (sepallength) do dataset Iris.\n",
    "\n",
    "4. Normalize a coluna (sepallength) do dataset iris de tal forma que o valor mínimo seja zero (0) e o valor máximo seja 1.\n",
    "\n",
    "5. Encontre o 5º e o 95º percentil do comprimento das pétalas (sepallength) do dataset Iris.\n",
    "\n",
    "6. Encontre a quantidade de valores ausentes, bem como a posição deles da primeira coluna da coluna comprimento das pétalas (sepallength), dentro do vetor abaixo:\n",
    "\n",
    "```python\n",
    "# Entrada\n",
    "url = 'https://archive.ics.uci.edu/ml/machine-learning-databases/iris/iris.data'\n",
    "iris_2d = np.genfromtxt(url, delimiter=',', dtype='float')\n",
    "iris_2d[np.random.randint(150, size=20), np.random.randint(4, size=20)] = np.nan\n",
    "```\n",
    "\n",
    "7. Filtre o vetor iris_2d do exercício anterior para que ele tenha: (terceira coluna (petallength) > 1.5) && (primeira coluna (sepallength) < 5.0)\n",
    "\n",
    "```python\n",
    "# Entrada\n",
    "url = 'https://archive.ics.uci.edu/ml/machine-learning-databases/iris/iris.data'\n",
    "iris_2d = np.genfromtxt(url, delimiter=',', dtype='float', usecols=[0,1,2,3])\n",
    "```\n",
    "\n",
    "8. Selecione as linhas do vetor iris_2d que não contenham valores nan (Not a Number).\n",
    "\n",
    "```python\n",
    "# Entrada\n",
    "url = 'https://archive.ics.uci.edu/ml/machine-learning-databases/iris/iris.data'\n",
    "iris_2d = np.genfromtxt(url, delimiter=',', dtype='float', usecols=[0,1,2,3])\n",
    "```\n",
    "\n",
    "9. Encontre a correlação entre a primeira coluna (sepallength) e a (terceira coluna (petallength) no vetor iris_2d.\n",
    "\n",
    "10. Verifique se o vetor iris_2d possui qualquer valor faltante, caso possui deverá retornar True caso contrário False.\n",
    "\n",
    "\n",
    "```python\n",
    "# Entrada\n",
    "url = 'https://archive.ics.uci.edu/ml/machine-learning-databases/iris/iris.data'\n",
    "iris_2d = np.genfromtxt(url, delimiter=',', dtype='float', usecols=[0,1,2,3])\n",
    "```\n",
    "\n",
    "\n",
    "11. Substitua todas as ocorrências de nan (Not a Number) por zeros em um vetor NumPy.\n",
    "\n",
    "```python\n",
    "# Entrada\n",
    "url = 'https://archive.ics.uci.edu/ml/machine-learning-databases/iris/iris.data'\n",
    "iris_2d = np.genfromtxt(url, delimiter=',', dtype='float', usecols=[0,1,2,3])\n",
    "iris_2d[np.random.randint(150, size=20), np.random.randint(4, size=20)] = np.nan\n",
    "```\n",
    "\n",
    "12. Encontre e conte os valores únicos da coluna species\n",
    "\n",
    "```python\n",
    "# Entrada\n",
    "url = 'https://archive.ics.uci.edu/ml/machine-learning-databases/iris/iris.data'\n",
    "iris = np.genfromtxt(url, delimiter=',', dtype='object')\n",
    "names = ('sepallength', 'sepalwidth', 'petallength', 'petalwidth', 'species')\n",
    "```\n",
    "\n",
    "\n",
    "13. Mapeie terceira coluna (petallength) de tal forma que os valores numéricos sejam substituídos por valores textuais, seguindo de acordo com a tabela abaixo:\n",
    "\n",
    "| Número               | Classificação                \n",
    "|:---------------------|:--------------|\n",
    "| Menor do que 3       | Pequena       |\n",
    "| entre 3 e 5          | Média         |\n",
    "| Maior ou Igual a 5   | Grande        |\n",
    "\n",
    "```python\n",
    "# Entrada\n",
    "url = 'https://archive.ics.uci.edu/ml/machine-learning-databases/iris/iris.data'\n",
    "iris = np.genfromtxt(url, delimiter=',', dtype='object')\n",
    "nomes = ('sepallength', 'sepalwidth', 'petallength', 'petalwidth', 'species')\n",
    "```\n",
    "\n",
    "14. Crie uma nova coluna chamada *volume*, preenchida com dados resultantes da seguinte equação:\n",
    "\n",
    "$$volume=\\frac{(~ Pi ~x~ Petallength ~x~ Sepal Length^2 ~)}{3}$$\n",
    "\n",
    "```python\n",
    "# Entrada\n",
    "url = 'https://archive.ics.uci.edu/ml/machine-learning-databases/iris/iris.data'\n",
    "iris_2d = np.genfromtxt(url, delimiter=',', dtype='object')\n",
    "nomes = ('sepallength', 'sepalwidth', 'petallength', 'petalwidth', 'species')\n",
    "```\n",
    "\n",
    "15. Usando NumPy e o dataset iris responda: Qual é o segundo maior valor de comprimento de pétala (petallength) da espécie setosa?\n",
    "\n",
    "```python\n",
    "# Entrada\n",
    "url = 'https://archive.ics.uci.edu/ml/machine-learning-databases/iris/iris.data'\n",
    "iris = np.genfromtxt(url, delimiter=',', dtype='object')\n",
    "nomes = ('sepallength', 'sepalwidth', 'petallength', 'petalwidth', 'species')\n",
    "```\n",
    "\n",
    "16. Ordene o dataset iris com base na coluna sepallength de maneira crescente.\n",
    "\n",
    "```python\n",
    "# Entrada\n",
    "url = 'https://archive.ics.uci.edu/ml/machine-learning-databases/iris/iris.data'\n",
    "iris = np.genfromtxt(url, delimiter=',', dtype='object')\n",
    "nomes = ('sepallength', 'sepalwidth', 'petallength', 'petalwidth', 'species')\n",
    "```\n",
    "\n",
    "17. Encontre o valor mais frequente da terceira coluna (petallength) do dataset iris.\n",
    "\n",
    "```python\n",
    "# Entrada\n",
    "url = 'https://archive.ics.uci.edu/ml/machine-learning-databases/iris/iris.data'\n",
    "iris = np.genfromtxt(url, delimiter=',', dtype='object')\n",
    "nomes = ('sepallength', 'sepalwidth', 'petallength', 'petalwidth', 'species')\n",
    "```\n",
    "\n",
    "18. Encontre a posição da primeira ocorrência de um valor maior do que 1.0 da quarta coluna (petalwidth) do dataset iris.\n",
    "\n",
    "```python\n",
    "# Entrada\n",
    "url = 'https://archive.ics.uci.edu/ml/machine-learning-databases/iris/iris.data'\n",
    "iris = np.genfromtxt(url, delimiter=',', dtype='object')\n",
    "```\n",
    "\n",
    "19. Obtenha a posição dos top 5 valores maíximos do vetor abaixo:\n",
    "\n",
    "```python\n",
    "# Entrada\n",
    "np.random.seed(100)\n",
    "vetor = np.random.uniform(1,50, 20)\n",
    "```\n",
    "\n",
    "20. Encontre a média de uma coluna numérica agrupada por uma coluna categórica em uma matriz (vetor numpy 2D)\n",
    "\n",
    "```python\n",
    "# Entrada\n",
    "url = 'https://archive.ics.uci.edu/ml/machine-learning-databases/iris/iris.data'\n",
    "iris = np.genfromtxt(url, delimiter=',', dtype='object')\n",
    "names = ('sepallength', 'sepalwidth', 'petallength', 'petalwidth', 'species')\n",
    "\n",
    "# Saída Esperada\n",
    "#>  [[b'Iris-setosa', 3.418],\n",
    "#>  [b'Iris-versicolor', 2.770],\n",
    "#>  [b'Iris-virginica', 2.974]] \n",
    "```\n"
   ]
  },
  {
   "cell_type": "markdown",
   "metadata": {},
   "source": [
    "import numpy as np\n",
    "\n",
    "url = 'https://archive.ics.uci.edu/ml/machine-learning-databases/iris/iris.data'\n",
    "colunas = ('sepallength', 'sepalwidth', 'petallength', 'petalwidth', 'species')\n",
    "iris = np.genfromtxt(url, delimiter=',', dtype='object', encoding='ascii')\n",
    "\n",
    "iris[:3]"
   ]
  },
  {
   "cell_type": "code",
   "execution_count": 6,
   "metadata": {},
   "outputs": [
    {
     "data": {
      "text/plain": [
       "array([[b'5.1', b'3.5', b'1.4', b'0.2', b'Iris-setosa'],\n",
       "       [b'4.9', b'3.0', b'1.4', b'0.2', b'Iris-setosa'],\n",
       "       [b'4.7', b'3.2', b'1.3', b'0.2', b'Iris-setosa']], dtype=object)"
      ]
     },
     "execution_count": 6,
     "metadata": {},
     "output_type": "execute_result"
    }
   ],
   "source": [
    "#EXERCICIO01 Usando NumPy, importe o dataset iris mantendo o seu conteúdo intacto.\n",
    "import numpy as np\n",
    "\n",
    "url = 'https://archive.ics.uci.edu/ml/machine-learning-databases/iris/iris.data' \n",
    "colunas = ('sepallength', 'sepalwidth', 'petallength', 'petalwidth', 'species') \n",
    "iris = np.genfromtxt(url, delimiter=',', dtype='object', encoding='ascii')\n",
    "\n",
    "iris[:3]"
   ]
  },
  {
   "cell_type": "code",
   "execution_count": 7,
   "metadata": {},
   "outputs": [
    {
     "name": "stdout",
     "output_type": "stream",
     "text": [
      "['Iris-setosa' 'Iris-setosa' 'Iris-setosa' 'Iris-setosa' 'Iris-setosa'\n",
      " 'Iris-setosa' 'Iris-setosa' 'Iris-setosa' 'Iris-setosa' 'Iris-setosa'\n",
      " 'Iris-setosa' 'Iris-setosa' 'Iris-setosa' 'Iris-setosa' 'Iris-setosa'\n",
      " 'Iris-setosa' 'Iris-setosa' 'Iris-setosa' 'Iris-setosa' 'Iris-setosa'\n",
      " 'Iris-setosa' 'Iris-setosa' 'Iris-setosa' 'Iris-setosa' 'Iris-setosa'\n",
      " 'Iris-setosa' 'Iris-setosa' 'Iris-setosa' 'Iris-setosa' 'Iris-setosa'\n",
      " 'Iris-setosa' 'Iris-setosa' 'Iris-setosa' 'Iris-setosa' 'Iris-setosa'\n",
      " 'Iris-setosa' 'Iris-setosa' 'Iris-setosa' 'Iris-setosa' 'Iris-setosa'\n",
      " 'Iris-setosa' 'Iris-setosa' 'Iris-setosa' 'Iris-setosa' 'Iris-setosa'\n",
      " 'Iris-setosa' 'Iris-setosa' 'Iris-setosa' 'Iris-setosa' 'Iris-setosa'\n",
      " 'Iris-versicolor' 'Iris-versicolor' 'Iris-versicolor' 'Iris-versicolor'\n",
      " 'Iris-versicolor' 'Iris-versicolor' 'Iris-versicolor' 'Iris-versicolor'\n",
      " 'Iris-versicolor' 'Iris-versicolor' 'Iris-versicolor' 'Iris-versicolor'\n",
      " 'Iris-versicolor' 'Iris-versicolor' 'Iris-versicolor' 'Iris-versicolor'\n",
      " 'Iris-versicolor' 'Iris-versicolor' 'Iris-versicolor' 'Iris-versicolor'\n",
      " 'Iris-versicolor' 'Iris-versicolor' 'Iris-versicolor' 'Iris-versicolor'\n",
      " 'Iris-versicolor' 'Iris-versicolor' 'Iris-versicolor' 'Iris-versicolor'\n",
      " 'Iris-versicolor' 'Iris-versicolor' 'Iris-versicolor' 'Iris-versicolor'\n",
      " 'Iris-versicolor' 'Iris-versicolor' 'Iris-versicolor' 'Iris-versicolor'\n",
      " 'Iris-versicolor' 'Iris-versicolor' 'Iris-versicolor' 'Iris-versicolor'\n",
      " 'Iris-versicolor' 'Iris-versicolor' 'Iris-versicolor' 'Iris-versicolor'\n",
      " 'Iris-versicolor' 'Iris-versicolor' 'Iris-versicolor' 'Iris-versicolor'\n",
      " 'Iris-versicolor' 'Iris-versicolor' 'Iris-virginica' 'Iris-virginica'\n",
      " 'Iris-virginica' 'Iris-virginica' 'Iris-virginica' 'Iris-virginica'\n",
      " 'Iris-virginica' 'Iris-virginica' 'Iris-virginica' 'Iris-virginica'\n",
      " 'Iris-virginica' 'Iris-virginica' 'Iris-virginica' 'Iris-virginica'\n",
      " 'Iris-virginica' 'Iris-virginica' 'Iris-virginica' 'Iris-virginica'\n",
      " 'Iris-virginica' 'Iris-virginica' 'Iris-virginica' 'Iris-virginica'\n",
      " 'Iris-virginica' 'Iris-virginica' 'Iris-virginica' 'Iris-virginica'\n",
      " 'Iris-virginica' 'Iris-virginica' 'Iris-virginica' 'Iris-virginica'\n",
      " 'Iris-virginica' 'Iris-virginica' 'Iris-virginica' 'Iris-virginica'\n",
      " 'Iris-virginica' 'Iris-virginica' 'Iris-virginica' 'Iris-virginica'\n",
      " 'Iris-virginica' 'Iris-virginica' 'Iris-virginica' 'Iris-virginica'\n",
      " 'Iris-virginica' 'Iris-virginica' 'Iris-virginica' 'Iris-virginica'\n",
      " 'Iris-virginica' 'Iris-virginica' 'Iris-virginica' 'Iris-virginica']\n"
     ]
    }
   ],
   "source": [
    "#EXERCICIO02 Extraia a coluna species do dataset importado na questão anterior para um vetor unidimensional.\n",
    "import numpy as np\n",
    "\n",
    "url = 'https://archive.ics.uci.edu/ml/machine-learning-databases/iris/iris.data' \n",
    "colunas = ('sepallength', 'sepalwidth', 'petallength', 'petalwidth', 'species') \n",
    "iris = np.genfromtxt(url, delimiter=',', dtype='object', encoding='ascii')\n",
    "\n",
    "species = iris[:,4].astype(str)\n",
    "print(species)"
   ]
  },
  {
   "cell_type": "code",
   "execution_count": 8,
   "metadata": {},
   "outputs": [
    {
     "name": "stdout",
     "output_type": "stream",
     "text": [
      "A média é: 5.843333333333334\n",
      "A mediana é: 5.8\n",
      "O desvio é: 0.8253012917851409\n"
     ]
    }
   ],
   "source": [
    "#EXERCICIO03 Calcule a média, mediana e desvio padrão da primeira coluna (sepallength) do dataset Iris.\n",
    "import numpy as np\n",
    "\n",
    "url = 'https://archive.ics.uci.edu/ml/machine-learning-databases/iris/iris.data' \n",
    "colunas = ('sepallength', 'sepalwidth', 'petallength', 'petalwidth', 'species') \n",
    "iris = np.genfromtxt(url, delimiter=',', dtype='object', encoding='ascii')\n",
    "\n",
    "sepallength = iris[:,0].astype(float)\n",
    "media_sepallength = sepallength.mean()\n",
    "mediana_sepallength = np.median(sepallength)\n",
    "desvio_sepallength = np.std(sepallength)\n",
    "\n",
    "print('A média é:', media_sepallength)\n",
    "print('A mediana é:', mediana_sepallength)\n",
    "print('O desvio é:', desvio_sepallength)"
   ]
  },
  {
   "cell_type": "code",
   "execution_count": 5,
   "metadata": {},
   "outputs": [
    {
     "name": "stdout",
     "output_type": "stream",
     "text": [
      "A sepallength é: [5.1 4.9]\n",
      "A normalização é: [0.22222222 0.16666667]\n"
     ]
    }
   ],
   "source": [
    "#EXERCICIO04 Normalize a coluna (sepallength) do dataset iris de tal forma que o valor mínimo seja zero (0) e o valor máximo seja 1.\n",
    "import numpy as np\n",
    "\n",
    "url = 'https://archive.ics.uci.edu/ml/machine-learning-databases/iris/iris.data' \n",
    "colunas = ('sepallength', 'sepalwidth', 'petallength', 'petalwidth', 'species') \n",
    "iris = np.genfromtxt(url, delimiter=',', dtype='object', encoding='ascii')\n",
    "\n",
    "sepallength = iris[:,0].astype(float)\n",
    "sepal_length_max = sepallength.max()\n",
    "sepal_length_min = sepallength.min()\n",
    "\n",
    "sepal_length_normalizada = (sepallength - sepal_length_min) / (sepal_length_max - sepal_length_min )\n",
    "\n",
    "print('A sepallength é:', sepallength[:2])\n",
    "print('A normalização é:', sepal_length_normalizada[:2])"
   ]
  },
  {
   "cell_type": "code",
   "execution_count": 6,
   "metadata": {},
   "outputs": [
    {
     "name": "stdout",
     "output_type": "stream",
     "text": [
      "A 5º e 95º Percentil é: [4.6   7.255]\n"
     ]
    }
   ],
   "source": [
    "#EXERCICIO05 Encontre o 5º e o 95º percentil do comprimento das pétalas (sepallength) do dataset Iris.\n",
    "import numpy as np\n",
    "\n",
    "url = 'https://archive.ics.uci.edu/ml/machine-learning-databases/iris/iris.data' \n",
    "colunas = ('sepallength', 'sepalwidth', 'petallength', 'petalwidth', 'species') \n",
    "iris = np.genfromtxt(url, delimiter=',', dtype='object', encoding='ascii')\n",
    "\n",
    "sepallength = iris[:,0].astype(float)\n",
    "\n",
    "print('A 5º e 95º Percentil é:', np.percentile(sepallength, q=[5,95]))"
   ]
  },
  {
   "cell_type": "code",
   "execution_count": 7,
   "metadata": {},
   "outputs": [
    {
     "name": "stdout",
     "output_type": "stream",
     "text": [
      "Quantidade de valores ausentes: 5\n",
      "Posicao deos valores ausentes: (array([ 21,  43,  80,  94, 136], dtype=int32),)\n"
     ]
    }
   ],
   "source": [
    "#EXERCICIO06 Encontre a quantidade de valores ausentes, bem como a posição deles da primeira coluna da coluna comprimento das pétalas (sepallength), dentro do vetor abaixo:\n",
    "# Entrada\n",
    "import numpy as np\n",
    "\n",
    "url = 'https://archive.ics.uci.edu/ml/machine-learning-databases/iris/iris.data'\n",
    "colunas = ('sepallength', 'sepalwidth', 'petallength', 'petalwidth', 'species') \n",
    "iris_2d = np.genfromtxt(url, delimiter=',', dtype='float')\n",
    "iris_2d[np.random.randint(150, size=20), np.random.randint(4, size=20)] = np.nan\n",
    "\n",
    "print(\"Quantidade de valores ausentes:\",np.isnan(iris_2d[:,0]).sum())\n",
    "print(\"Posicao deos valores ausentes:\", np.where(np.isnan(iris_2d[:,0])))"
   ]
  },
  {
   "cell_type": "code",
   "execution_count": 8,
   "metadata": {},
   "outputs": [
    {
     "data": {
      "text/plain": [
       "array([[4.8, 3.4, 1.6, 0.2],\n",
       "       [4.8, 3.4, 1.9, 0.2],\n",
       "       [4.7, 3.2, 1.6, 0.2],\n",
       "       [4.8, 3.1, 1.6, 0.2],\n",
       "       [4.9, 2.4, 3.3, 1. ],\n",
       "       [4.9, 2.5, 4.5, 1.7]])"
      ]
     },
     "execution_count": 8,
     "metadata": {},
     "output_type": "execute_result"
    }
   ],
   "source": [
    "#EXERCICIO 07 Filtre o vetor iris_2d do exercício anterior para que ele tenha: (terceira coluna (petallength) > 1.5) && (primeira coluna (sepallength) < 5.0)\n",
    "# Entrada\n",
    "import numpy as np\n",
    "\n",
    "url = 'https://archive.ics.uci.edu/ml/machine-learning-databases/iris/iris.data'\n",
    "colunas = ('sepallength', 'sepalwidth', 'petallength', 'petalwidth', 'species') \n",
    "iris_2d = np.genfromtxt(url, delimiter=',', dtype='float', usecols=[0,1,2,3], encoding='ascii')\n",
    "\n",
    "condicao = (iris_2d[:,2]>1.5) & (iris_2d[:,0] < 5.0)\n",
    "iris_2d[condicao]\n"
   ]
  },
  {
   "cell_type": "code",
   "execution_count": 9,
   "metadata": {},
   "outputs": [
    {
     "data": {
      "text/plain": [
       "array([[5.1, 3.5, 1.4, 0.2],\n",
       "       [4.9, 3. , 1.4, 0.2],\n",
       "       [4.7, 3.2, 1.3, 0.2],\n",
       "       [4.6, 3.1, 1.5, 0.2],\n",
       "       [5. , 3.6, 1.4, 0.2]])"
      ]
     },
     "execution_count": 9,
     "metadata": {},
     "output_type": "execute_result"
    }
   ],
   "source": [
    "#EXERCICIO08 Selecione as linhas do vetor iris_2d que não contenham valores nan (Not a Number).\n",
    "import numpy as np\n",
    "\n",
    "# Entrada\n",
    "url = 'https://archive.ics.uci.edu/ml/machine-learning-databases/iris/iris.data'\n",
    "iris_2d = np.genfromtxt(url, delimiter=',', dtype='float', usecols=[0,1,2,3])\n",
    "\n",
    "any_nam_in_row = np.array([~np.any(np.isnan(row)) for row in iris_2d])\n",
    "iris_2d[any_nam_in_row][:5]"
   ]
  },
  {
   "cell_type": "code",
   "execution_count": 10,
   "metadata": {},
   "outputs": [
    {
     "data": {
      "text/plain": [
       "0.8717541573048709"
      ]
     },
     "execution_count": 10,
     "metadata": {},
     "output_type": "execute_result"
    }
   ],
   "source": [
    "#EXERCICIO09 Encontre a correlação entre a primeira coluna (sepallength) e a (terceira coluna (petallength) no vetor iris_2d.\n",
    "import numpy as np\n",
    "\n",
    "url = 'https://archive.ics.uci.edu/ml/machine-learning-databases/iris/iris.data'\n",
    "iris_2d = np.genfromtxt(url, delimiter=',', dtype='float', usecols=[0,1,2,3])\n",
    "\n",
    "iris = np.genfromtxt(url, delimiter =',' , dtype = 'float', usecols=[0,1,2,3])\n",
    "np.corrcoef(iris[:,0], iris[:,2])[0, 1]"
   ]
  },
  {
   "cell_type": "code",
   "execution_count": 11,
   "metadata": {},
   "outputs": [
    {
     "data": {
      "text/plain": [
       "False"
      ]
     },
     "execution_count": 11,
     "metadata": {},
     "output_type": "execute_result"
    }
   ],
   "source": [
    "#EXERCICIO10 Verifique se o vetor iris_2d possui qualquer valor faltante, caso possui deverá retornar True caso contrário False.\n",
    "import numpy as np\n",
    "\n",
    "# Entrada\n",
    "url = 'https://archive.ics.uci.edu/ml/machine-learning-databases/iris/iris.data'\n",
    "iris_2d = np.genfromtxt(url, delimiter=',', dtype='float', usecols=[0,1,2,3])\n",
    "\n",
    "np.isnan(iris_2d).any()"
   ]
  },
  {
   "cell_type": "code",
   "execution_count": 12,
   "metadata": {},
   "outputs": [
    {
     "data": {
      "text/plain": [
       "array([[5.1, 3.5, 1.4, 0.2],\n",
       "       [4.9, 3. , 1.4, 0.2],\n",
       "       [4.7, 3.2, 1.3, 0.2],\n",
       "       [4.6, 3.1, 1.5, 0.2]])"
      ]
     },
     "execution_count": 12,
     "metadata": {},
     "output_type": "execute_result"
    }
   ],
   "source": [
    "#EXERCICIO11 Substitua todas as ocorrências de nan (Not a Number) por zeros em um vetor NumPy.\n",
    "import numpy as np\n",
    "\n",
    "# Entrada\n",
    "url = 'https://archive.ics.uci.edu/ml/machine-learning-databases/iris/iris.data'\n",
    "iris_2d = np.genfromtxt(url, delimiter=',', dtype='float', usecols=[0,1,2,3])\n",
    "iris_2d[np.random.randint(150, size=20), np.random.randint(4, size=20)] = np.nan\n",
    "\n",
    "iris_2d[np.isnan(iris_2d)] = 0\n",
    "iris_2d[:4]"
   ]
  },
  {
   "cell_type": "code",
   "execution_count": 13,
   "metadata": {},
   "outputs": [
    {
     "data": {
      "text/plain": [
       "(array([b'Iris-setosa', b'Iris-versicolor', b'Iris-virginica'],\n",
       "       dtype='|S15'), array([50, 50, 50]))"
      ]
     },
     "execution_count": 13,
     "metadata": {},
     "output_type": "execute_result"
    }
   ],
   "source": [
    "#EXERCICIO12 Encontre e conte os valores únicos da coluna species\n",
    "# Entrada\n",
    "import numpy as np\n",
    "url = 'https://archive.ics.uci.edu/ml/machine-learning-databases/iris/iris.data'\n",
    "iris = np.genfromtxt(url, delimiter=',', dtype='object')\n",
    "names = ('sepallength', 'sepalwidth', 'petallength', 'petalwidth', 'species')\n",
    "\n",
    "species = np.array([linha.tolist()[4] for linha in iris])\n",
    "np.unique(species, return_counts=True)"
   ]
  },
  {
   "cell_type": "code",
   "execution_count": 14,
   "metadata": {},
   "outputs": [
    {
     "data": {
      "text/plain": [
       "['Pequeno', 'Pequeno', 'Pequeno', 'Pequeno']"
      ]
     },
     "execution_count": 14,
     "metadata": {},
     "output_type": "execute_result"
    }
   ],
   "source": [
    "#EXERCICIO13 Mapeie terceira coluna (petallength) de tal forma que os valores numéricos sejam substituídos por valores textuais, seguindo de acordo com a tabela abaixo:\n",
    "# Entrada\n",
    "url = 'https://archive.ics.uci.edu/ml/machine-learning-databases/iris/iris.data'\n",
    "iris = np.genfromtxt(url, delimiter=',', dtype='object')\n",
    "nomes = ('sepallength', 'sepalwidth', 'petallength', 'petalwidth', 'species')\n",
    "\n",
    "#Cria os intervalos de petallenght\n",
    "petal_lenght_intervalos = np.digitize(iris[:, 2].astype('float'),[0,3,5,10])\n",
    "\n",
    "#Mapeia para as respectivas categorias\n",
    "mapeamento_rotulos = {1: 'Pequeno', 2: 'Medio', 3: 'Grande', 4: np.nan}\n",
    "petal_lenght_categorizada = [mapeamento_rotulos[i] for i in petal_lenght_intervalos]\n",
    "\n",
    "#Visualiza\n",
    "petal_lenght_categorizada[:4]"
   ]
  },
  {
   "cell_type": "code",
   "execution_count": 15,
   "metadata": {},
   "outputs": [],
   "source": [
    "#EXERCICIO14 Crie uma nova coluna chamada volume, preenchida com dados resultantes da seguinte equação:\n",
    "# Entrada\n",
    "import numpy as np\n",
    "url = 'https://archive.ics.uci.edu/ml/machine-learning-databases/iris/iris.data'\n",
    "iris_2d = np.genfromtxt(url, delimiter=',', dtype='object')\n",
    "nomes = ('sepallength', 'sepalwidth', 'petallength', 'petalwidth', 'species')\n",
    "\n",
    "#Calcula o volume\n",
    "sepallength = iris_2d[:, 0].astype('float')\n",
    "petallength = iris_2d[:, 2].astype('float')\n",
    "volume = (np.pi * petallength * (sepallength**2)) / 3\n",
    "\n",
    "#Cria uma nova dimensão\n",
    "volume = volume[:, np.newaxis]\n",
    "\n",
    "#Adiciona uma nova coluna com a dimensão criada\n",
    "saida = np.hstack([iris_2d, volume])"
   ]
  },
  {
   "cell_type": "code",
   "execution_count": 16,
   "metadata": {},
   "outputs": [
    {
     "data": {
      "text/plain": [
       "1.7"
      ]
     },
     "execution_count": 16,
     "metadata": {},
     "output_type": "execute_result"
    }
   ],
   "source": [
    "#EXERCICIO15 Usando NumPy e o dataset iris responda: Qual é o segundo maior valor de comprimento de pétala (petallength) da espécie setosa?\n",
    "# Entrada\n",
    "url = 'https://archive.ics.uci.edu/ml/machine-learning-databases/iris/iris.data'\n",
    "iris = np.genfromtxt(url, delimiter=',', dtype='object')\n",
    "nomes = ('sepallength', 'sepalwidth', 'petallength', 'petalwidth', 'species')\n",
    "\n",
    "#Obtem as colunas species e petal length\n",
    "petal_len_setosa = iris[iris[:, 4] == b'Iris-setosa' , [2]].astype('float')\n",
    "\n",
    "# Ordena e pega o segundo maior valor\n",
    "np.unique(np.sort(petal_len_setosa))[-2]"
   ]
  },
  {
   "cell_type": "code",
   "execution_count": 17,
   "metadata": {},
   "outputs": [
    {
     "name": "stdout",
     "output_type": "stream",
     "text": [
      "[[b'4.3' b'3.0' b'1.1' b'0.1' b'Iris-setosa']\n",
      " [b'4.4' b'3.2' b'1.3' b'0.2' b'Iris-setosa']\n",
      " [b'4.4' b'3.0' b'1.3' b'0.2' b'Iris-setosa']\n",
      " [b'4.4' b'2.9' b'1.4' b'0.2' b'Iris-setosa']\n",
      " [b'4.5' b'2.3' b'1.3' b'0.3' b'Iris-setosa']\n",
      " [b'4.6' b'3.6' b'1.0' b'0.2' b'Iris-setosa']\n",
      " [b'4.6' b'3.1' b'1.5' b'0.2' b'Iris-setosa']\n",
      " [b'4.6' b'3.4' b'1.4' b'0.3' b'Iris-setosa']\n",
      " [b'4.6' b'3.2' b'1.4' b'0.2' b'Iris-setosa']\n",
      " [b'4.7' b'3.2' b'1.3' b'0.2' b'Iris-setosa']\n",
      " [b'4.7' b'3.2' b'1.6' b'0.2' b'Iris-setosa']\n",
      " [b'4.8' b'3.0' b'1.4' b'0.1' b'Iris-setosa']\n",
      " [b'4.8' b'3.0' b'1.4' b'0.3' b'Iris-setosa']\n",
      " [b'4.8' b'3.4' b'1.9' b'0.2' b'Iris-setosa']\n",
      " [b'4.8' b'3.4' b'1.6' b'0.2' b'Iris-setosa']\n",
      " [b'4.8' b'3.1' b'1.6' b'0.2' b'Iris-setosa']\n",
      " [b'4.9' b'2.4' b'3.3' b'1.0' b'Iris-versicolor']\n",
      " [b'4.9' b'2.5' b'4.5' b'1.7' b'Iris-virginica']\n",
      " [b'4.9' b'3.1' b'1.5' b'0.1' b'Iris-setosa']\n",
      " [b'4.9' b'3.1' b'1.5' b'0.1' b'Iris-setosa']]\n"
     ]
    }
   ],
   "source": [
    "#EXERCICIO16 Ordene o dataset iris com base na coluna sepallength de maneira crescente.\n",
    "# Entrada\n",
    "url = 'https://archive.ics.uci.edu/ml/machine-learning-databases/iris/iris.data'\n",
    "iris = np.genfromtxt(url, delimiter=',', dtype='object')\n",
    "nomes = ('sepallength', 'sepalwidth', 'petallength', 'petalwidth', 'species')\n",
    "\n",
    "#Ordena pela coluna na posição 0: Sepallength\n",
    "print(iris[iris[:,0].argsort()][:20])"
   ]
  },
  {
   "cell_type": "code",
   "execution_count": 18,
   "metadata": {},
   "outputs": [
    {
     "name": "stdout",
     "output_type": "stream",
     "text": [
      "[b'1.0' b'1.1' b'1.2' b'1.3' b'1.4' b'1.5' b'1.6' b'1.7' b'1.9' b'3.0'\n",
      " b'3.3' b'3.5' b'3.6' b'3.7' b'3.8' b'3.9' b'4.0' b'4.1' b'4.2' b'4.3'\n",
      " b'4.4' b'4.5' b'4.6' b'4.7' b'4.8' b'4.9' b'5.0' b'5.1' b'5.2' b'5.3'\n",
      " b'5.4' b'5.5' b'5.6' b'5.7' b'5.8' b'5.9' b'6.0' b'6.1' b'6.3' b'6.4'\n",
      " b'6.6' b'6.7' b'6.9']\n",
      "[ 1  1  2  7 12 14  7  4  2  1  2  2  1  1  1  3  5  3  4  2  4  8  3  5\n",
      "  4  5  4  8  2  2  2  3  6  3  3  2  2  3  1  1  1  2  1]\n",
      "b'1.5'\n"
     ]
    }
   ],
   "source": [
    "#EXERCICIO17 Encontre o valor mais frequente da terceira coluna (petallength) do dataset iris.\n",
    "# Entrada\n",
    "url = 'https://archive.ics.uci.edu/ml/machine-learning-databases/iris/iris.data'\n",
    "iris = np.genfromtxt(url, delimiter=',', dtype='object')\n",
    "nomes = ('sepallength', 'sepalwidth', 'petallength', 'petalwidth', 'species')\n",
    "\n",
    "valores, contagens = np.unique(iris[:,2], return_counts=True)\n",
    "print(valores)\n",
    "print(contagens)\n",
    "print(valores[np.argmax(contagens)])"
   ]
  },
  {
   "cell_type": "code",
   "execution_count": 19,
   "metadata": {},
   "outputs": [
    {
     "data": {
      "text/plain": [
       "array([50], dtype=int32)"
      ]
     },
     "execution_count": 19,
     "metadata": {},
     "output_type": "execute_result"
    }
   ],
   "source": [
    "#EXERCICIO18 Encontre a posição da primeira ocorrência de um valor maior do que 1.0 da quarta coluna (petalwidth) do dataset iris.\n",
    "# Entrada\n",
    "url = 'https://archive.ics.uci.edu/ml/machine-learning-databases/iris/iris.data'\n",
    "iris = np.genfromtxt(url, delimiter=',', dtype='object')\n",
    "\n",
    "np.argwhere(iris[:,3].astype(float) > 1.0) [0]"
   ]
  },
  {
   "cell_type": "code",
   "execution_count": 20,
   "metadata": {},
   "outputs": [
    {
     "name": "stdout",
     "output_type": "stream",
     "text": [
      "[ 4 13  5  8 17 12 11 14 19  1  2  0  9  6 16 18  7  3 10 15]\n"
     ]
    },
    {
     "data": {
      "text/plain": [
       "array([15, 10,  3,  7, 18], dtype=int32)"
      ]
     },
     "execution_count": 20,
     "metadata": {},
     "output_type": "execute_result"
    }
   ],
   "source": [
    "#EXERCICIO19 Obtenha a posição dos top 5 valores maximos do vetor abaixo:\n",
    "# Entrada\n",
    "np.random.seed(100)\n",
    "vetor = np.random.uniform(1,50, 20)\n",
    "\n",
    "print(vetor.argsort())\n",
    "\n",
    "np.argpartition(-vetor, 5)[:5]"
   ]
  },
  {
   "cell_type": "code",
   "execution_count": 21,
   "metadata": {},
   "outputs": [
    {
     "data": {
      "text/plain": [
       "[[b'Iris-setosa', 3.418],\n",
       " [b'Iris-versicolor', 2.7700000000000005],\n",
       " [b'Iris-virginica', 2.974]]"
      ]
     },
     "execution_count": 21,
     "metadata": {},
     "output_type": "execute_result"
    }
   ],
   "source": [
    "#EXERCICIO20 Encontre a média de uma coluna numérica agrupada por uma coluna categórica em uma matriz (vetor numpy 2D)\n",
    "# Entrada\n",
    "url = 'https://archive.ics.uci.edu/ml/machine-learning-databases/iris/iris.data'\n",
    "iris = np.genfromtxt(url, delimiter=',', dtype='object')\n",
    "names = ('sepallength', 'sepalwidth', 'petallength', 'petalwidth', 'species')\n",
    "\n",
    "# Saída Esperada\n",
    "#>  [[b'Iris-setosa', 3.418],\n",
    "#>  [b'Iris-versicolor', 2.770],\n",
    "#>  [b'Iris-virginica', 2.974]] \n",
    "\n",
    "coluna_numerica = iris[:, 1].astype('float') #sepalwidth\n",
    "coluna_categoria = iris[:, 4] #species\n",
    "\n",
    "saida = []\n",
    "\n",
    "for categoria in np.unique(coluna_categoria):\n",
    "    saida.append([categoria, coluna_numerica[coluna_categoria == categoria].mean()])\n",
    "saida"
   ]
  }
 ],
 "metadata": {
  "kernelspec": {
   "display_name": "Python 3",
   "language": "python",
   "name": "python3"
  },
  "language_info": {
   "codemirror_mode": {
    "name": "ipython",
    "version": 3
   },
   "file_extension": ".py",
   "mimetype": "text/x-python",
   "name": "python",
   "nbconvert_exporter": "python",
   "pygments_lexer": "ipython3",
   "version": "3.7.3"
  }
 },
 "nbformat": 4,
 "nbformat_minor": 2
}
